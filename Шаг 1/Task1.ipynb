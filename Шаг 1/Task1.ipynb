{
 "cells": [
  {
   "cell_type": "code",
   "execution_count": 1,
   "metadata": {},
   "outputs": [],
   "source": [
    "# Подклчаем нужные библиотеки\n",
    "import json\n",
    "import xlrd"
   ]
  },
  {
   "cell_type": "code",
   "execution_count": 2,
   "metadata": {},
   "outputs": [],
   "source": [
    "# создаем функцию для преобразования .xlsx файла в .json\n",
    "def ConvertXlsxToJson(xlsx_file, json_file):\n",
    "    book = xlrd.open_workbook(xlsx_file)\n",
    "    sh1 = book.sheet_by_index(0)\n",
    "    store = []\n",
    "    for rx in range(1, sh1.nrows):\n",
    "        frame = {\n",
    "            \"global_id\": int(sh1.row(rx)[0].value),\n",
    "            \"ID\": sh1.row(rx)[1].value,\n",
    "            \"AdmArea\": sh1.row(rx)[2].value,\n",
    "            \"District\":sh1.row(rx)[3].value,\n",
    "            \"DescriptionLocation\": sh1.row(rx)[4].value,\n",
    "            \"PayWay\": sh1.row(rx)[5].value,\n",
    "            \"IntercityConnectionPayment\": sh1.row(rx)[6].value,\n",
    "            \"ValidUniversalServicesCard\": sh1.row(rx)[7].value,\n",
    "            \"signature_date\" : sh1.row(rx)[8].value\n",
    "        }\n",
    "        store.append(frame)\n",
    "    with open(json_file, 'w') as out_file:\n",
    "        json_obj = json.dumps(store, ensure_ascii = False, indent = 4)\n",
    "        out_file.write(json_obj)"
   ]
  },
  {
   "cell_type": "code",
   "execution_count": 3,
   "metadata": {},
   "outputs": [],
   "source": [
    "#В .xlsx файл добавил атрибут для описания даты(формат даты не схож с датой из .json => надо привести к одному формату)\n",
    "def resolve_format(date) -> str:\n",
    "    if date == '':\n",
    "        return '01.01.1970 00:00:00' # Если отсутсвует дата вообще, вставляет дефолтную дату\n",
    "    date = date.split()\n",
    "    if len(date) == 1:\n",
    "        only_time = '00:00:00'\n",
    "        only_date = date[0]\n",
    "    else:\n",
    "        only_date, only_time = date[0], date[1]\n",
    "    only_date = only_date.split('.')\n",
    "    if len(only_date[0]) > 2:\n",
    "        only_date = only_date[1] + '.' + only_date[2] + '.' + only_date[0]\n",
    "    else:\n",
    "        only_date = only_date[0] + '.' + only_date[1] + '.' + only_date[2]\n",
    "    return only_date + ' ' + only_time\n",
    "\n",
    "\n",
    "# Создаем целевую схему для файлов .json\n",
    "def scheme(file1, file2):\n",
    "    store = []\n",
    "    with open(file1, 'r', ) as f:\n",
    "        dataMos = json.load(f)\n",
    "    with open(file2, 'r', ) as f:\n",
    "        dataGov = json.load(f)\n",
    "    target_scheme = dataGov[0].keys()\n",
    "    # Убирём два атрибуты, чтобы уменьшить количество столбцов и введем один новый вместо трех существующих\n",
    "    target_scheme = set(target_scheme).symmetric_difference(set([\"Longitude_WGS84\",'AdmArea', \\\n",
    "                                                                 'District', 'DescriptionLocation', \\\n",
    "                                                                 'Address', \"system_object_id\"]))\n",
    "    print(target_scheme)\n",
    "    create_json(dataMos, file1, target_scheme)\n",
    "    create_json(dataGov, file2, target_scheme)\n",
    "    \n",
    "    \n",
    "# Создаем новые файлы .json с целевой схемой    \n",
    "def create_json(data, json_file, target_scheme):\n",
    "    store = []\n",
    "    for obj in data:\n",
    "        n_obj = dict()\n",
    "        for attribute in target_scheme:\n",
    "            if attribute == 'Address':\n",
    "                # Три атрибута объединяем в один и будем в дальнейшем использовать как ключ(точное месторасположение)\n",
    "                n_obj[attribute] = obj['AdmArea'] + ', ' + obj['District'] + ', ' + obj['DescriptionLocation']\n",
    "            elif attribute not in obj.keys():\n",
    "                n_obj[attribute] = None                \n",
    "            elif attribute == 'signature_date':\n",
    "                n_obj[attribute] = resolve_format(obj['signature_date'])\n",
    "            else:\n",
    "                n_obj[attribute] = obj[attribute]\n",
    "        store.append(n_obj)\n",
    "    with open('new_' + json_file, 'w') as out_file:\n",
    "        json_obj = json.dumps(store, ensure_ascii = False, indent = 4)\n",
    "        out_file.write(json_obj)    "
   ]
  },
  {
   "cell_type": "code",
   "execution_count": 4,
   "metadata": {},
   "outputs": [
    {
     "name": "stdout",
     "output_type": "stream",
     "text": [
      "{'Name', 'PayWay', 'global_id', 'signature_date', 'Address', 'Latitude_WGS84', 'ValidUniversalServicesCard', 'IntercityConnectionPayment', 'ID'}\n"
     ]
    }
   ],
   "source": [
    "ConvertXlsxToJson(xlsx_file = 'dataMos.xlsx', json_file = 'dataMos.json')\n",
    "scheme('dataMos.json', 'dataGov.json')"
   ]
  }
 ],
 "metadata": {
  "kernelspec": {
   "display_name": "Python 3",
   "language": "python",
   "name": "python3"
  },
  "language_info": {
   "codemirror_mode": {
    "name": "ipython",
    "version": 3
   },
   "file_extension": ".py",
   "mimetype": "text/x-python",
   "name": "python",
   "nbconvert_exporter": "python",
   "pygments_lexer": "ipython3",
   "version": "3.8.3"
  }
 },
 "nbformat": 4,
 "nbformat_minor": 4
}
